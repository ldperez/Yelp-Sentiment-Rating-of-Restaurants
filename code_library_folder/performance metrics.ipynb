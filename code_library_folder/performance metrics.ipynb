{
 "cells": [
  {
   "cell_type": "code",
   "execution_count": 185,
   "id": "7c078a84",
   "metadata": {},
   "outputs": [],
   "source": [
    "import pandas as pd\n",
    "import random\n",
    "from sklearn.model_selection import train_test_split\n",
    "from sklearn.metrics import accuracy_score, f1_score, recall_score, precision_score\n",
    "from textblob import TextBlob\n",
    "from vaderSentiment.vaderSentiment import SentimentIntensityAnalyzer\n",
    "import matplotlib.pyplot as plt"
   ]
  },
  {
   "cell_type": "code",
   "execution_count": 186,
   "id": "e10a3b65",
   "metadata": {},
   "outputs": [],
   "source": [
    "df = pd.read_csv('pre_processed.csv')\n"
   ]
  },
  {
   "cell_type": "code",
   "execution_count": 78,
   "id": "f3740cc6",
   "metadata": {},
   "outputs": [
    {
     "name": "stdout",
     "output_type": "stream",
     "text": [
      "Length of dataset: 239065\n"
     ]
    }
   ],
   "source": [
    "# Drop rows with NaN values in categories column\n",
    "df = df.dropna(subset=['categories'])\n",
    "\n",
    "# Keep only rows where categories contain 'restaurants' or 'food'\n",
    "df = df[df['categories'].str.contains('restaurants|food', case=False, regex=True)]\n",
    "\n",
    "# Get the length of the resulting dataframe\n",
    "length = len(df)\n",
    "\n",
    "print(f\"Length of dataset: {length}\")"
   ]
  },
  {
   "cell_type": "code",
   "execution_count": 9,
   "id": "bd57a0e2",
   "metadata": {
    "scrolled": true
   },
   "outputs": [
    {
     "name": "stdout",
     "output_type": "stream",
     "text": [
      "                                                     text  vader_sentiment  \\\n",
      "270492  be to this place about three time over the pas...           0.9769   \n",
      "87906   good food the red and green sauce rock the red...           0.8271   \n",
      "273213  the good veggie sandwich I have ever eat the b...           0.9468   \n",
      "10648   a one of a kind experience a sandbox for the k...           0.6083   \n",
      "269386  priority be give to take out order so kitchen ...           0.2960   \n",
      "\n",
      "       vader_sentiment_label  textblob_sentiment textblob_sentiment_label  \\\n",
      "270492              positive            0.335707                 positive   \n",
      "87906               positive            0.205000                 positive   \n",
      "273213              positive            0.850000                 positive   \n",
      "10648               positive            0.132457                 positive   \n",
      "269386              positive           -0.156944                 negative   \n",
      "\n",
      "       sentiment_label  \n",
      "270492        positive  \n",
      "87906         positive  \n",
      "273213        positive  \n",
      "10648         positive  \n",
      "269386        positive  \n"
     ]
    }
   ],
   "source": [
    "# Select a random sample of 100 reviews\n",
    "sub = df['text_processed'].sample(n=5000, random_state=42)\n",
    "\n",
    "# Define function to get VADER sentiment scores\n",
    "def get_vader_sentiment_scores(text):\n",
    "    analyzer = SentimentIntensityAnalyzer()\n",
    "    scores = analyzer.polarity_scores(str(text))\n",
    "    return scores['compound']\n",
    "\n",
    "\n",
    "\n",
    "#Define function to get TextBlob sentiment polarity\n",
    "def get_textblob_sentiment_polarity(text):\n",
    "    if isinstance(text, str):\n",
    "        return TextBlob(text).sentiment.polarity\n",
    "    else:\n",
    "        return 0.0\n",
    "\n",
    "# Get VADER and TextBlob sentiment scores for Yelp review dataset\n",
    "vader_sentiments = [get_vader_sentiment_scores(text) for text in sub]\n",
    "textblob_sentiments = [get_textblob_sentiment_polarity(text) for text in sub]\n",
    "\n",
    "# Convert sentiment scores to labels (positive, negative, neutral)\n",
    "vader_sentiment_labels = ['positive' if score > 0 else 'negative' if score < 0 else 'neutral' for score in vader_sentiments]\n",
    "textblob_sentiment_labels = ['positive' if score > 0 else 'negative' if score < 0 else 'neutral' for score in textblob_sentiments]\n",
    "\n",
    "# Create a DataFrame to store the results\n",
    "results = pd.DataFrame({'text': sub, \n",
    "                        'vader_sentiment': vader_sentiments, \n",
    "                        'vader_sentiment_label': vader_sentiment_labels,\n",
    "                        'textblob_sentiment': textblob_sentiments, \n",
    "                        'textblob_sentiment_label': textblob_sentiment_labels})\n",
    "\n",
    "# Add ground truth sentiment labels to Yelp review dataset\n",
    "results['sentiment_label'] = results['vader_sentiment_label']\n",
    "\n",
    "print(results.head())\n"
   ]
  },
  {
   "cell_type": "code",
   "execution_count": 11,
   "id": "410b4575",
   "metadata": {
    "scrolled": true
   },
   "outputs": [
    {
     "data": {
      "image/png": "[encoded data removed]",
      "text/plain": [
       "<Figure size 432x288 with 1 Axes>"
      ]
     },
     "metadata": {
      "needs_background": "light"
     },
     "output_type": "display_data"
    }
   ],
   "source": [
    "# Count the frequency of each sentiment label in the \"sentiment_label\" column\n",
    "sentiment_counts = results[\"sentiment_label\"].value_counts()\n",
    "\n",
    "# Plot the sentiment distribution as a bar chart\n",
    "sentiment_counts.plot(kind=\"bar\")\n",
    "plt.title(\"Sentiment Distribution\")\n",
    "plt.xlabel(\"Sentiment Label\")\n",
    "plt.ylabel(\"Frequency\")\n",
    "plt.show()"
   ]
  },
  {
   "cell_type": "code",
   "execution_count": 12,
   "id": "81a8e319",
   "metadata": {},
   "outputs": [],
   "source": [
    "grouped = results.groupby('sentiment_label')\n",
    "sampled = grouped.apply(lambda x: x.sample(n=min(len(x), 50), random_state=42))\n",
    "subset = sampled[['text', 'sentiment_label']]\n",
    "\n"
   ]
  },
  {
   "cell_type": "code",
   "execution_count": 13,
   "id": "c371471b",
   "metadata": {},
   "outputs": [
    {
     "data": {
      "image/png": "[encoded data removed]",
      "text/plain": [
       "<Figure size 432x288 with 1 Axes>"
      ]
     },
     "metadata": {
      "needs_background": "light"
     },
     "output_type": "display_data"
    }
   ],
   "source": [
    "# Count the frequency of each sentiment label in the \"sentiment_label\" column of the subset DataFrame\n",
    "sentiment_counts = subset[\"sentiment_label\"].value_counts()\n",
    "\n",
    "# Plot the balanced sentiment distribution as a bar chart\n",
    "sentiment_counts.plot(kind=\"bar\")\n",
    "plt.title(\"Balanced Sentiment Distribution\")\n",
    "plt.xlabel(\"Sentiment Label\")\n",
    "plt.ylabel(\"Frequency\")\n",
    "plt.show()\n"
   ]
  },
  {
   "cell_type": "code",
   "execution_count": 27,
   "id": "5387c92a",
   "metadata": {},
   "outputs": [],
   "source": [
    "def calculate_metrics(sampled):\n",
    "    \"\"\"\n",
    "    Calculate accuracy, F1 score, and recall for the sentiment analysis results.\n",
    "    \n",
    "    Args:\n",
    "    results_df: Pandas DataFrame with columns 'vader_sentiment_label', 'textblob_sentiment_label', \n",
    "                and 'sentiment_label' (ground truth).\n",
    "    \n",
    "    Returns:\n",
    "    A dictionary containing accuracy, F1 score, and recall for each sentiment analysis method.\n",
    "    \"\"\"\n",
    "    vader_accuracy = accuracy_score(sampled['sentiment_label'], sampled['vader_sentiment_label'])\n",
    "    textblob_accuracy = accuracy_score(sampled['sentiment_label'], sampled['textblob_sentiment_label'])\n",
    "\n",
    "    vader_f1_score = f1_score(sampled['sentiment_label'], sampled['vader_sentiment_label'], average='weighted')\n",
    "    textblob_f1_score = f1_score(sampled['sentiment_label'], sampled['textblob_sentiment_label'], average='weighted')\n",
    "\n",
    "    vader_recall = recall_score(sampled['sentiment_label'], sampled['vader_sentiment_label'], average='weighted')\n",
    "    textblob_recall = recall_score(sampled['sentiment_label'], sampled['textblob_sentiment_label'], average='weighted')\n",
    "\n",
    "    metrics_dict = {'vader': {'accuracy': vader_accuracy, 'f1_score': vader_f1_score, 'recall': vader_recall},\n",
    "                    'textblob': {'accuracy': textblob_accuracy, 'f1_score': textblob_f1_score, 'recall': textblob_recall}}\n",
    "\n",
    "    return metrics_dict\n"
   ]
  },
  {
   "cell_type": "code",
   "execution_count": 40,
   "id": "830a3f50",
   "metadata": {},
   "outputs": [
    {
     "name": "stdout",
     "output_type": "stream",
     "text": [
      "VADER mean sentiment score: 0.7046351582205677\n",
      "TextBlob mean sentiment score: 0.26745004242550624\n"
     ]
    }
   ],
   "source": [
    "vader_mean_sentiment = results['vader_sentiment'].mean()\n",
    "textblob_mean_sentiment = results['textblob_sentiment'].mean()\n",
    "\n",
    "print(f\"VADER mean sentiment score: {vader_mean_sentiment}\")\n",
    "print(f\"TextBlob mean sentiment score: {textblob_mean_sentiment}\")\n"
   ]
  },
  {
   "cell_type": "code",
   "execution_count": 99,
   "id": "caed0df8",
   "metadata": {},
   "outputs": [],
   "source": [
    "# Split the dataset into training and testing sets, ensuring that the classes are balanced\n",
    "train_df, test_df = train_test_split(df, test_size=0.2, random_state=42, stratify=df['sentiment'])\n"
   ]
  },
  {
   "cell_type": "code",
   "execution_count": 100,
   "id": "dcf6ec3a",
   "metadata": {},
   "outputs": [],
   "source": [
    "# Train the sentiment analysis models\n",
    "vader_analyzer = SentimentIntensityAnalyzer()"
   ]
  },
  {
   "cell_type": "code",
   "execution_count": 101,
   "id": "20163044",
   "metadata": {},
   "outputs": [
    {
     "data": {
      "text/plain": [
       "0"
      ]
     },
     "execution_count": 101,
     "metadata": {},
     "output_type": "execute_result"
    }
   ],
   "source": [
    "train_df['text_processed'].isna().sum()"
   ]
  },
  {
   "cell_type": "code",
   "execution_count": 102,
   "id": "872556f5",
   "metadata": {},
   "outputs": [],
   "source": [
    "# Add a 'vader_sentiment' column to the training set\n",
    "train_df['vader_sentiment'] = train_df['text_processed'].apply(lambda x: 'positive' if vader_analyzer.polarity_scores(x)['compound'] >= 0 else 'negative')\n",
    "\n",
    "# Add a 'textblob_sentiment' column to the training set\n",
    "train_df['textblob_sentiment'] = train_df['text_processed'].apply(lambda x: 'positive' if TextBlob(x).sentiment[0] >= 0 else 'negative')\n",
    "\n"
   ]
  },
  {
   "cell_type": "code",
   "execution_count": 105,
   "id": "e634f8f2",
   "metadata": {},
   "outputs": [],
   "source": [
    "y_true_v = testing_set['sentiment'].values\n",
    "#y_true_t = testing_set['textblob_sentiment'].values\n",
    "\n",
    "vader_preds = testing_set['text_processed'].apply(lambda x: 'positive' if vader_analyzer.polarity_scores(x)['compound'] >= 0 else 'negative').values\n",
    "textblob_preds = testing_set['text_processed'].apply(lambda x: 'positive' if TextBlob(x).sentiment[0] >= 0 else 'negative').values"
   ]
  },
  {
   "cell_type": "code",
   "execution_count": 106,
   "id": "e0100d06",
   "metadata": {},
   "outputs": [
    {
     "data": {
      "text/plain": [
       "array(['positive', 'positive', 'positive', ..., 'positive', 'negative',\n",
       "       'positive'], dtype=object)"
      ]
     },
     "execution_count": 106,
     "metadata": {},
     "output_type": "execute_result"
    }
   ],
   "source": [
    "vader_preds"
   ]
  },
  {
   "cell_type": "code",
   "execution_count": 111,
   "id": "965782ca",
   "metadata": {},
   "outputs": [],
   "source": [
    "# Calculate accuracy for Vader and TextBlob\n",
    "vader_accuracy = accuracy_score(y_true_v, vader_preds)\n",
    "textblob_accuracy = accuracy_score(y_true_v, textblob_preds)"
   ]
  },
  {
   "cell_type": "code",
   "execution_count": 61,
   "id": "2a2a6f01",
   "metadata": {},
   "outputs": [],
   "source": [
    "# Train the sentiment analysis models\n",
    "vader_analyzer = SentimentIntensityAnalyzer()\n",
    "\n",
    "# Predict the sentiment using VADER and TextBlob\n",
    "vader_preds = test_df['text_processed'].apply(lambda x: 'positive' if vader_analyzer.polarity_scores(x)['compound'] >= 0 else 'negative').values\n",
    "textblob_preds = test_df['text_processed'].apply(lambda x: 'positive' if TextBlob(x).sentiment[0] >= 0 else 'negative').values\n",
    "\n",
    "# Calculate accuracy scores for sentiment and textblob_sentiment columns separately\n",
    "vader_accuracy = accuracy_score(test_df['sentiment'].values, vader_preds)\n",
    "textblob_accuracy = accuracy_score(test_df['textblob_sentiment'].values, textblob_preds)\n",
    "\n",
    "# Calculate F1 scores for sentiment and textblob_sentiment columns separately\n",
    "vader_f1 = f1_score(test_df['sentiment'].values, vader_preds, pos_label='positive')\n",
    "textblob_f1 = f1_score(test_df['textblob_sentiment'].values, textblob_preds, pos_label='positive')\n",
    "\n",
    "# Calculate recall scores for sentiment and textblob_sentiment columns separately\n",
    "vader_recall = recall_score(test_df['sentiment'].values, vader_preds, pos_label='positive')\n",
    "textblob_recall = recall_score(test_df['textblob_sentiment'].values, textblob_preds, pos_label='positive')\n"
   ]
  },
  {
   "cell_type": "code",
   "execution_count": 65,
   "id": "7cd53f7f",
   "metadata": {},
   "outputs": [],
   "source": [
    "class TextBlobTransformer:\n",
    "    def transform(self, X):\n",
    "        return [TextBlob(text) for text in X]\n",
    "\n",
    "    def fit(self, X, y=None):\n",
    "        return self\n",
    "\n",
    "    def fit_transform(self, X, y=None):\n",
    "        return self.transform(X)"
   ]
  },
  {
   "cell_type": "code",
   "execution_count": 67,
   "id": "bd310299",
   "metadata": {},
   "outputs": [],
   "source": [
    "from sklearn.model_selection import cross_validate, KFold"
   ]
  },
  {
   "cell_type": "code",
   "execution_count": 80,
   "id": "ed24ab5b",
   "metadata": {},
   "outputs": [],
   "source": [
    "# Extract the review text and star rating columns\n",
    "reviews = df['text']\n",
    "ratings = df['stars_x']"
   ]
  },
  {
   "cell_type": "code",
   "execution_count": 81,
   "id": "43ed77a5",
   "metadata": {},
   "outputs": [],
   "source": [
    "def label_sentiment(rating):\n",
    "    if rating >= 4:\n",
    "        return 'positive'\n",
    "    elif rating <= 2:\n",
    "        return 'negative'\n",
    "    else:\n",
    "        return 'neutral'"
   ]
  },
  {
   "cell_type": "code",
   "execution_count": 82,
   "id": "5ccac526",
   "metadata": {},
   "outputs": [],
   "source": [
    "sentiments = ratings.map(label_sentiment)"
   ]
  },
  {
   "cell_type": "code",
   "execution_count": 84,
   "id": "47d052d8",
   "metadata": {},
   "outputs": [],
   "source": [
    "df['sentiment'] = df['stars_x'].map(label_sentiment)"
   ]
  },
  {
   "cell_type": "code",
   "execution_count": 175,
   "id": "696e53eb",
   "metadata": {},
   "outputs": [],
   "source": [
    "train_df, test_df = train_test_split(df, test_size=0.2, random_state=42, stratify=df['sentiment'])\n",
    "\n",
    "vader_analyzer = SentimentIntensityAnalyzer()\n",
    "\n",
    "# Add a 'vader_sentiment' column to the training set\n",
    "train_df['vader_sentiment'] = train_df['text_processed'].apply(lambda x: 'positive' if vader_analyzer.polarity_scores(x)['compound'] >= 0 else 'negative')\n",
    "\n",
    "# Add a 'textblob_sentiment' column to the training set\n",
    "train_df['textblob_sentiment'] = train_df['text_processed'].apply(lambda x: 'positive' if TextBlob(x).sentiment[0] >= 0 else 'negative')\n",
    "\n",
    "y_true_v = test_df['sentiment'].values\n",
    "#y_true_t = test_df['textblob_sentiment'].values\n",
    "\n",
    "vader_preds = test_df['text_processed'].apply(lambda x: 'positive' if vader_analyzer.polarity_scores(x)['compound'] >= 0 else 'negative').values\n",
    "textblob_preds = test_df['text_processed'].apply(lambda x: 'positive' if TextBlob(x).sentiment[0] >= 0 else 'negative').values\n",
    "\n",
    "# Calculate accuracy for Vader and TextBlob\n",
    "vader_accuracy = accuracy_score(y_true_v, vader_preds)\n",
    "textblob_accuracy = accuracy_score(y_true_v, textblob_preds)\n"
   ]
  },
  {
   "cell_type": "code",
   "execution_count": 176,
   "id": "682f372c",
   "metadata": {},
   "outputs": [],
   "source": [
    "# Calculate accuracy, F1 score and recall for Vader\n",
    "vader_accuracy = accuracy_score(y_true_v, vader_preds)\n",
    "vader_f1 = f1_score(y_true_v, vader_preds, average='weighted')\n",
    "vader_recall = recall_score(y_true_v, vader_preds,average='weighted')\n",
    "\n",
    "# Calculate accuracy, F1 score and recall for TextBlob\n",
    "textblob_accuracy = accuracy_score(y_true_v, textblob_preds)\n",
    "textblob_f1 = f1_score(y_true_v, textblob_preds, average='weighted')\n",
    "textblob_recall = recall_score(y_true_v, textblob_preds, average='weighted')\n",
    "\n"
   ]
  },
  {
   "cell_type": "code",
   "execution_count": 179,
   "id": "565f7cf2",
   "metadata": {},
   "outputs": [
    {
     "name": "stdout",
     "output_type": "stream",
     "text": [
      "Vader precision: 0.5458962811303223\n",
      "TextBlob precision: 0.5468200304049291\n"
     ]
    },
    {
     "name": "stderr",
     "output_type": "stream",
     "text": [
      "D:\\python\\lib\\site-packages\\sklearn\\metrics\\_classification.py:1344: UndefinedMetricWarning: Precision is ill-defined and being set to 0.0 in labels with no predicted samples. Use `zero_division` parameter to control this behavior.\n",
      "  _warn_prf(average, modifier, msg_start, len(result))\n",
      "D:\\python\\lib\\site-packages\\sklearn\\metrics\\_classification.py:1344: UndefinedMetricWarning: Precision is ill-defined and being set to 0.0 in labels with no predicted samples. Use `zero_division` parameter to control this behavior.\n",
      "  _warn_prf(average, modifier, msg_start, len(result))\n"
     ]
    }
   ],
   "source": [
    "# Calculate precision for Vader\n",
    "vader_precision = precision_score(y_true_v, vader_preds, average='weighted')\n",
    "\n",
    "# Calculate precision for TextBlob\n",
    "textblob_precision = precision_score(y_true_v, textblob_preds, average='weighted')\n",
    "\n",
    "print('Vader precision:', vader_precision)\n",
    "print('TextBlob precision:', textblob_precision)\n"
   ]
  },
  {
   "cell_type": "code",
   "execution_count": 181,
   "id": "e71fc01e",
   "metadata": {},
   "outputs": [
    {
     "name": "stdout",
     "output_type": "stream",
     "text": [
      "Vader scores:\n",
      "Accuracy: 0.6782\n",
      "F1 score: 0.6035\n",
      "Recall: 0.6782\n",
      "Precision: 0.5459\n",
      "\n",
      "TextBlob scores:\n",
      "Accuracy: 0.6808\n",
      "F1 score: 0.6051\n",
      "Recall: 0.6808\n",
      "Precision: 0.5468\n"
     ]
    }
   ],
   "source": [
    "print('Vader scores:')\n",
    "print('Accuracy:', round(vader_accuracy, 4))\n",
    "print('F1 score:', round(vader_f1, 4))\n",
    "print('Recall:', round(vader_recall, 4))\n",
    "print('Precision:', round(vader_precision,4))\n",
    "\n",
    "print('\\nTextBlob scores:')\n",
    "print('Accuracy:', round(textblob_accuracy, 4))\n",
    "print('F1 score:', round(textblob_f1, 4))\n",
    "print('Recall:', round(textblob_recall, 4))\n",
    "print('Precision:', round(textblob_precision,4))"
   ]
  }
 ],
 "metadata": {
  "kernelspec": {
   "display_name": "Python 3",
   "language": "python",
   "name": "python3"
  },
  "language_info": {
   "codemirror_mode": {
    "name": "ipython",
    "version": 3
   },
   "file_extension": ".py",
   "mimetype": "text/x-python",
   "name": "python",
   "nbconvert_exporter": "python",
   "pygments_lexer": "ipython3",
   "version": "3.8.8"
  }
 },
 "nbformat": 4,
 "nbformat_minor": 5
}
